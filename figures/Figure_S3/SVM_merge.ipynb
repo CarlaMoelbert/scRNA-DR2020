{
 "cells": [
  {
   "cell_type": "code",
   "execution_count": 2,
   "metadata": {},
   "outputs": [],
   "source": [
    "import numpy as np\n",
    "import os\n",
    "from PIL import Image\n",
    "import numpy as np\n",
    "import pandas as pd"
   ]
  },
  {
   "cell_type": "code",
   "execution_count": 3,
   "metadata": {},
   "outputs": [
    {
     "name": "stdout",
     "output_type": "stream",
     "text": [
      "(216, 288)\n",
      "(432, 288)\n",
      "(216, 0)\n"
     ]
    }
   ],
   "source": [
    "arr = ['pacmap_KNN.png']\n",
    "toImage = Image.new('RGBA',(72*3 + 432*1,288*1))\n",
    "\n",
    "fromImge = Image.open('hiv_knn_legend_name.png')\n",
    "print(fromImge.size)\n",
    "loc = (0, 0)\n",
    "toImage.paste(fromImge, loc)\n",
    "\n",
    "for i in range(1):\n",
    "    fromImge = Image.open(arr[i])\n",
    "    print(fromImge.size)\n",
    "    loc = (72*3 + (i * 432), 0)\n",
    "    print(loc)\n",
    "    toImage.paste(fromImge, loc)\n",
    "\n",
    "toImage.save('merged_pacmap_legend_name.png')"
   ]
  },
  {
   "cell_type": "code",
   "execution_count": null,
   "metadata": {},
   "outputs": [],
   "source": []
  }
 ],
 "metadata": {
  "kernelspec": {
   "display_name": "Python 3",
   "language": "python",
   "name": "python3"
  },
  "language_info": {
   "codemirror_mode": {
    "name": "ipython",
    "version": 3
   },
   "file_extension": ".py",
   "mimetype": "text/x-python",
   "name": "python",
   "nbconvert_exporter": "python",
   "pygments_lexer": "ipython3",
   "version": "3.8.8"
  }
 },
 "nbformat": 4,
 "nbformat_minor": 4
}
