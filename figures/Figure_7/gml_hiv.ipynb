{
 "cells": [
  {
   "cell_type": "code",
   "execution_count": 8,
   "metadata": {},
   "outputs": [],
   "source": [
    "import numpy as np\n",
    "\n",
    "gml_pacmap_npy = np.load('hiv_pacmap.npy')\n",
    "gml_tsne_npy = np.load('hiv_tsne.npy')\n",
    "gml_umap_npy = np.load('hiv_umap.npy')"
   ]
  },
  {
   "cell_type": "code",
   "execution_count": 9,
   "metadata": {},
   "outputs": [],
   "source": [
    "import pandas as pd\n",
    "\n",
    "pca_norm_ = pd.read_csv('hiv_logVMR_pca_100.csv')"
   ]
  },
  {
   "cell_type": "code",
   "execution_count": 10,
   "metadata": {},
   "outputs": [
    {
     "data": {
      "text/plain": [
       "'/Users/wyf/HIV/GML-processed'"
      ]
     },
     "execution_count": 10,
     "metadata": {},
     "output_type": "execute_result"
    }
   ],
   "source": [
    "import os\n",
    "\n",
    "norm_data = pca_norm_[pca_norm_.columns[0]]\n",
    "norm_data = np.array(norm_data)\n",
    "id_data = pd.DataFrame(norm_data, columns=['id'])\n",
    "\n",
    "# ------------------------------------------------------------\n",
    "\n",
    "gml_pacmap_0 = pd.DataFrame(data=gml_pacmap_npy[:, 0], columns=['data_0'])\n",
    "gml_pacmap_1 = pd.DataFrame(data=gml_pacmap_npy[:, 1], columns=['data_1'])\n",
    "col=['data_0', 'data_1']\n",
    "\n",
    "ans_pacmap = pd.concat([gml_pacmap_0, gml_pacmap_1], axis=1) \n",
    "ans_pacmap.to_csv('gml_pacmap_csv.csv',index=False,columns=col)\n",
    "\n",
    "\n",
    "# ------------------------------------------------------------\n",
    "\n",
    "gml_umap_0 = pd.DataFrame(data=gml_umap_npy[:, 0], columns=['data_0'])\n",
    "gml_umap_1 = pd.DataFrame(data=gml_umap_npy[:, 1], columns=['data_1'])\n",
    "col=['data_0', 'data_1']\n",
    "\n",
    "ans_umap = pd.concat([gml_umap_0, gml_umap_1], axis=1) \n",
    "ans_umap.to_csv('gml_umap_csv.csv',index=False,columns=col)\n",
    "\n",
    "# ------------------------------------------------------------\n",
    "\n",
    "gml_tsne_0 = pd.DataFrame(data=gml_tsne_npy[:, 0], columns=['data_0'])\n",
    "gml_tsne_1 = pd.DataFrame(data=gml_tsne_npy[:, 1], columns=['data_1'])\n",
    "col=['data_0', 'data_1']\n",
    "\n",
    "ans_tsne = pd.concat([gml_tsne_0, gml_tsne_1], axis=1) \n",
    "ans_tsne.to_csv('gml_tsne_csv.csv',index=False,columns=col)\n",
    "\n",
    "\n",
    "\n",
    "\n",
    "os.getcwd()"
   ]
  },
  {
   "cell_type": "code",
   "execution_count": null,
   "metadata": {},
   "outputs": [],
   "source": []
  }
 ],
 "metadata": {
  "kernelspec": {
   "display_name": "Python 3",
   "language": "python",
   "name": "python3"
  },
  "language_info": {
   "codemirror_mode": {
    "name": "ipython",
    "version": 3
   },
   "file_extension": ".py",
   "mimetype": "text/x-python",
   "name": "python",
   "nbconvert_exporter": "python",
   "pygments_lexer": "ipython3",
   "version": "3.8.8"
  }
 },
 "nbformat": 4,
 "nbformat_minor": 4
}
