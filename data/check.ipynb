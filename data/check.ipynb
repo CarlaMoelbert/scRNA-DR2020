{
 "cells": [
  {
   "cell_type": "code",
   "execution_count": 1,
   "metadata": {},
   "outputs": [],
   "source": [
    "import numpy as np\n",
    "import pandas as pd"
   ]
  },
  {
   "cell_type": "code",
   "execution_count": 3,
   "metadata": {},
   "outputs": [],
   "source": [
    "ercc_label = pd.read_csv('ercc_label.csv')"
   ]
  },
  {
   "cell_type": "code",
   "execution_count": 5,
   "metadata": {},
   "outputs": [
    {
     "data": {
      "text/plain": [
       "(1015, 1)"
      ]
     },
     "execution_count": 5,
     "metadata": {},
     "output_type": "execute_result"
    }
   ],
   "source": [
    "ercc_label.shape"
   ]
  },
  {
   "cell_type": "code",
   "execution_count": 22,
   "metadata": {},
   "outputs": [],
   "source": [
    "from sklearn.neighbors import KNeighborsClassifier, NearestNeighbors\n",
    "\n",
    "def neighbor_kept_ratio_series_eval(X, X_news, n_neighbors_hd=30, n_neighbors_ld=50):\n",
    "    nn_hd = NearestNeighbors(n_neighbors=n_neighbors_hd+1)\n",
    "    nn_hd.fit(X)\n",
    "    graph_hd = nn_hd.kneighbors_graph(X).toarray()\n",
    "    graph_hd -= np.eye(X.shape[0]) # Removing diagonal\n",
    "    nk_ratios = []\n",
    "    for X_new in X_news:\n",
    "        nn_ld = NearestNeighbors(n_neighbors=n_neighbors_ld+1)\n",
    "        nn_ld.fit(X_new)\n",
    "        graph_ld = nn_ld.kneighbors_graph(X_new).toarray()\n",
    "        graph_ld -= np.eye(X.shape[0]) # Removing diagonal\n",
    "        neighbor_kept = np.sum(graph_hd * graph_ld).astype(float)\n",
    "        neighbor_kept_ratio = neighbor_kept / n_neighbors_hd / X.shape[0]\n",
    "        nk_ratios.append(neighbor_kept_ratio)\n",
    "    return nk_ratios\n"
   ]
  },
  {
   "cell_type": "code",
   "execution_count": 23,
   "metadata": {},
   "outputs": [],
   "source": [
    "X = np.random.normal(size=(1000, 10))"
   ]
  },
  {
   "cell_type": "code",
   "execution_count": 24,
   "metadata": {},
   "outputs": [],
   "source": [
    "X_news = [X[:, :2], X[:, :4], X[:, :6], X[:, :8], X[:, :10]]"
   ]
  },
  {
   "cell_type": "code",
   "execution_count": 25,
   "metadata": {},
   "outputs": [],
   "source": [
    "nk_ratios = neighbor_kept_ratio_series_eval(X, X_news)"
   ]
  },
  {
   "cell_type": "code",
   "execution_count": 26,
   "metadata": {},
   "outputs": [
    {
     "data": {
      "text/plain": [
       "[0.1673, 0.3302333333333333, 0.5252666666666667, 0.7747333333333334, 1.0]"
      ]
     },
     "execution_count": 26,
     "metadata": {},
     "output_type": "execute_result"
    }
   ],
   "source": [
    "nk_ratios"
   ]
  },
  {
   "cell_type": "code",
   "execution_count": null,
   "metadata": {},
   "outputs": [],
   "source": []
  }
 ],
 "metadata": {
  "kernelspec": {
   "display_name": "Python 3",
   "language": "python",
   "name": "python3"
  },
  "language_info": {
   "codemirror_mode": {
    "name": "ipython",
    "version": 3
   },
   "file_extension": ".py",
   "mimetype": "text/x-python",
   "name": "python",
   "nbconvert_exporter": "python",
   "pygments_lexer": "ipython3",
   "version": "3.7.4"
  }
 },
 "nbformat": 4,
 "nbformat_minor": 2
}
